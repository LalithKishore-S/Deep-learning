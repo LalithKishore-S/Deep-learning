{
  "nbformat": 4,
  "nbformat_minor": 0,
  "metadata": {
    "colab": {
      "provenance": []
    },
    "kernelspec": {
      "name": "python3",
      "display_name": "Python 3"
    },
    "language_info": {
      "name": "python"
    }
  },
  "cells": [
    {
      "cell_type": "markdown",
      "source": [
        "<h3><b>Basics of text embedding</h3>"
      ],
      "metadata": {
        "id": "nG6R3VyALLQB"
      }
    },
    {
      "cell_type": "code",
      "source": [
        "import pandas as pd\n",
        "import seaborn as sns\n",
        "import matplotlib.pyplot as plt"
      ],
      "metadata": {
        "id": "Hbp90KLnLSJ6"
      },
      "execution_count": 1,
      "outputs": []
    },
    {
      "cell_type": "markdown",
      "source": [
        "<h2>One Hot encoding</h2>"
      ],
      "metadata": {
        "id": "lIhLWO4DLeeW"
      }
    },
    {
      "cell_type": "code",
      "source": [
        "from sklearn.preprocessing import LabelBinarizer\n",
        "\n",
        "corpus = ['apple', 'banana', 'orange', 'apple']\n",
        "lb = LabelBinarizer()\n",
        "one_hot = lb.fit_transform(corpus)\n",
        "\n",
        "print(\"Vocabulary:\", lb.classes_)\n",
        "print(\"One-Hot Encoding:\\n\", one_hot)"
      ],
      "metadata": {
        "colab": {
          "base_uri": "https://localhost:8080/"
        },
        "id": "Mj7e9u2sLZWO",
        "outputId": "757a92a7-c925-4fbc-9577-2c241034c195"
      },
      "execution_count": 2,
      "outputs": [
        {
          "output_type": "stream",
          "name": "stdout",
          "text": [
            "Vocabulary: ['apple' 'banana' 'orange']\n",
            "One-Hot Encoding:\n",
            " [[1 0 0]\n",
            " [0 1 0]\n",
            " [0 0 1]\n",
            " [1 0 0]]\n"
          ]
        }
      ]
    },
    {
      "cell_type": "markdown",
      "source": [
        "<h2>Bag of Words(Count Vectorizer)</h2>"
      ],
      "metadata": {
        "id": "sZIibV8HLi9P"
      }
    },
    {
      "cell_type": "code",
      "source": [
        "from sklearn.feature_extraction.text import CountVectorizer\n",
        "\n",
        "corpus = [\n",
        "    'apple and banana',\n",
        "    'banana and orange',\n",
        "    'apple apple banana'\n",
        "]\n",
        "\n",
        "vectorizer = CountVectorizer()\n",
        "bow = vectorizer.fit_transform(corpus)\n",
        "\n",
        "print(\"Vocabulary:\", vectorizer.get_feature_names_out())\n",
        "print(\"BoW Matrix:\\n\", bow.toarray())"
      ],
      "metadata": {
        "colab": {
          "base_uri": "https://localhost:8080/"
        },
        "id": "oKv5AijKLiTP",
        "outputId": "bc83f935-3e05-483d-d353-f35143e22dd3"
      },
      "execution_count": 3,
      "outputs": [
        {
          "output_type": "stream",
          "name": "stdout",
          "text": [
            "Vocabulary: ['and' 'apple' 'banana' 'orange']\n",
            "BoW Matrix:\n",
            " [[1 1 1 0]\n",
            " [1 0 1 1]\n",
            " [0 2 1 0]]\n"
          ]
        }
      ]
    },
    {
      "cell_type": "markdown",
      "source": [
        "<h2>Tf-Idf Vectorizer</h2>"
      ],
      "metadata": {
        "id": "aqSVQajDLwWe"
      }
    },
    {
      "cell_type": "code",
      "source": [
        "from sklearn.feature_extraction.text import TfidfVectorizer\n",
        "\n",
        "tfidf_vectorizer = TfidfVectorizer()\n",
        "tfidf = tfidf_vectorizer.fit_transform(corpus)\n",
        "\n",
        "print(\"Vocabulary:\", tfidf_vectorizer.get_feature_names_out())\n",
        "print(\"TF-IDF Matrix:\\n\", tfidf.toarray())"
      ],
      "metadata": {
        "colab": {
          "base_uri": "https://localhost:8080/"
        },
        "id": "deS_EF2pMGiy",
        "outputId": "57e08588-c9e3-4164-ec93-ee6864efa4d1"
      },
      "execution_count": 4,
      "outputs": [
        {
          "output_type": "stream",
          "name": "stdout",
          "text": [
            "Vocabulary: ['and' 'apple' 'banana' 'orange']\n",
            "TF-IDF Matrix:\n",
            " [[0.61980538 0.61980538 0.48133417 0.        ]\n",
            " [0.54783215 0.         0.42544054 0.72033345]\n",
            " [0.         0.93219169 0.361965   0.        ]]\n"
          ]
        }
      ]
    },
    {
      "cell_type": "code",
      "source": [
        "bow_df = pd.DataFrame(bow.toarray(), columns=vectorizer.get_feature_names_out())\n",
        "plt.figure(figsize=(8, 4))\n",
        "sns.heatmap(bow_df, annot=True, cmap=\"Blues\", cbar=False)\n",
        "plt.title(\"Bag of Words Representation\")\n",
        "plt.xlabel(\"Words\")\n",
        "plt.ylabel(\"Documents\")\n",
        "plt.show()"
      ],
      "metadata": {
        "colab": {
          "base_uri": "https://localhost:8080/",
          "height": 410
        },
        "id": "-K0Vy84kMLgn",
        "outputId": "b35c5627-743e-4996-e17d-b35d277a94e1"
      },
      "execution_count": 5,
      "outputs": [
        {
          "output_type": "display_data",
          "data": {
            "text/plain": [
              "<Figure size 800x400 with 1 Axes>"
            ],
            "image/png": "[encoded data removed]"
          },
          "metadata": {}
        }
      ]
    },
    {
      "cell_type": "code",
      "source": [
        "tfidf_df = pd.DataFrame(tfidf.toarray(), columns=tfidf_vectorizer.get_feature_names_out())\n",
        "plt.figure(figsize=(8, 4))\n",
        "sns.heatmap(tfidf_df, annot=True, cmap=\"Blues\", cbar=False)\n",
        "plt.title(\"Bag of Words Representation\")\n",
        "plt.xlabel(\"Words\")\n",
        "plt.ylabel(\"Documents\")\n",
        "plt.show()"
      ],
      "metadata": {
        "colab": {
          "base_uri": "https://localhost:8080/",
          "height": 410
        },
        "id": "8tzEnjF9MM-4",
        "outputId": "e3200130-967f-4f55-81c6-bf29122a0314"
      },
      "execution_count": 6,
      "outputs": [
        {
          "output_type": "display_data",
          "data": {
            "text/plain": [
              "<Figure size 800x400 with 1 Axes>"
            ],
            "image/png": "[encoded data removed]"
          },
          "metadata": {}
        }
      ]
    },
    {
      "cell_type": "markdown",
      "source": [
        "<h2>Neural methods</h2>"
      ],
      "metadata": {
        "id": "--coJ6KaMZFH"
      }
    },
    {
      "cell_type": "code",
      "source": [
        "!pip install gensim"
      ],
      "metadata": {
        "colab": {
          "base_uri": "https://localhost:8080/"
        },
        "id": "PndnTBWSMdqA",
        "outputId": "39981cb3-657a-4fcc-a6d3-1343f4495146"
      },
      "execution_count": 7,
      "outputs": [
        {
          "output_type": "stream",
          "name": "stdout",
          "text": [
            "Requirement already satisfied: gensim in /usr/local/lib/python3.11/dist-packages (4.3.3)\n",
            "Requirement already satisfied: numpy<2.0,>=1.18.5 in /usr/local/lib/python3.11/dist-packages (from gensim) (1.26.4)\n",
            "Requirement already satisfied: scipy<1.14.0,>=1.7.0 in /usr/local/lib/python3.11/dist-packages (from gensim) (1.13.1)\n",
            "Requirement already satisfied: smart-open>=1.8.1 in /usr/local/lib/python3.11/dist-packages (from gensim) (7.1.0)\n",
            "Requirement already satisfied: wrapt in /usr/local/lib/python3.11/dist-packages (from smart-open>=1.8.1->gensim) (1.17.2)\n"
          ]
        }
      ]
    },
    {
      "cell_type": "code",
      "source": [
        "!pip install --upgrade numpy\n",
        "!pip install --upgrade gensim"
      ],
      "metadata": {
        "colab": {
          "base_uri": "https://localhost:8080/"
        },
        "id": "Q2fZ0hebM16h",
        "outputId": "354f367f-3328-4cdd-dacc-bda7bd9485f8"
      },
      "execution_count": 67,
      "outputs": [
        {
          "output_type": "stream",
          "name": "stdout",
          "text": [
            "Requirement already satisfied: numpy in /usr/local/lib/python3.11/dist-packages (1.26.4)\n",
            "Collecting numpy\n",
            "  Using cached numpy-2.2.4-cp311-cp311-manylinux_2_17_x86_64.manylinux2014_x86_64.whl.metadata (62 kB)\n",
            "Using cached numpy-2.2.4-cp311-cp311-manylinux_2_17_x86_64.manylinux2014_x86_64.whl (16.4 MB)\n",
            "Installing collected packages: numpy\n",
            "  Attempting uninstall: numpy\n",
            "    Found existing installation: numpy 1.26.4\n",
            "    Uninstalling numpy-1.26.4:\n",
            "      Successfully uninstalled numpy-1.26.4\n",
            "\u001b[31mERROR: pip's dependency resolver does not currently take into account all the packages that are installed. This behaviour is the source of the following dependency conflicts.\n",
            "gensim 4.3.3 requires numpy<2.0,>=1.18.5, but you have numpy 2.2.4 which is incompatible.\n",
            "tensorflow 2.18.0 requires numpy<2.1.0,>=1.26.0, but you have numpy 2.2.4 which is incompatible.\n",
            "numba 0.60.0 requires numpy<2.1,>=1.22, but you have numpy 2.2.4 which is incompatible.\u001b[0m\u001b[31m\n",
            "\u001b[0mSuccessfully installed numpy-2.2.4\n",
            "Requirement already satisfied: gensim in /usr/local/lib/python3.11/dist-packages (4.3.3)\n",
            "Collecting numpy<2.0,>=1.18.5 (from gensim)\n",
            "  Using cached numpy-1.26.4-cp311-cp311-manylinux_2_17_x86_64.manylinux2014_x86_64.whl.metadata (61 kB)\n",
            "Requirement already satisfied: scipy<1.14.0,>=1.7.0 in /usr/local/lib/python3.11/dist-packages (from gensim) (1.13.1)\n",
            "Requirement already satisfied: smart-open>=1.8.1 in /usr/local/lib/python3.11/dist-packages (from gensim) (7.1.0)\n",
            "Requirement already satisfied: wrapt in /usr/local/lib/python3.11/dist-packages (from smart-open>=1.8.1->gensim) (1.17.2)\n",
            "Using cached numpy-1.26.4-cp311-cp311-manylinux_2_17_x86_64.manylinux2014_x86_64.whl (18.3 MB)\n",
            "Installing collected packages: numpy\n",
            "  Attempting uninstall: numpy\n",
            "    Found existing installation: numpy 2.2.4\n",
            "    Uninstalling numpy-2.2.4:\n",
            "      Successfully uninstalled numpy-2.2.4\n",
            "\u001b[31mERROR: pip's dependency resolver does not currently take into account all the packages that are installed. This behaviour is the source of the following dependency conflicts.\n",
            "thinc 8.3.6 requires numpy<3.0.0,>=2.0.0, but you have numpy 1.26.4 which is incompatible.\u001b[0m\u001b[31m\n",
            "\u001b[0mSuccessfully installed numpy-1.26.4\n"
          ]
        }
      ]
    },
    {
      "cell_type": "code",
      "source": [
        "from gensim.models import Word2Vec\n",
        "\n",
        "# Sample corpus (list of tokenized sentences)\n",
        "corpus = [\n",
        "    ['apple', 'is', 'a', 'fruit'],\n",
        "    ['banana', 'is', 'yellow'],\n",
        "    ['orange', 'and', 'apple', 'are', 'fruits'],\n",
        "    ['i', 'love', 'banana', 'and', 'orange']\n",
        "]\n",
        "\n",
        "# Train Word2Vec Model - CBOW (default)\n",
        "model_cbow = Word2Vec(sentences=corpus, vector_size=50, window=2, min_count=1, sg=0)\n",
        "\n",
        "# Train Word2Vec Model - Skip-Gram\n",
        "model_skipgram = Word2Vec(sentences=corpus, vector_size=50, window=2, min_count=1, sg=1)\n",
        "\n",
        "# Example: Get vector for word 'apple'\n",
        "print(\"CBOW vector for 'apple':\\n\", model_cbow.wv['apple'])\n",
        "print(\"\\nSkip-Gram vector for 'apple':\\n\", model_skipgram.wv['apple'])\n",
        "\n",
        "# Most similar words to 'apple'\n",
        "print(\"\\nCBOW similar to 'apple':\", model_cbow.wv.most_similar('apple'))\n",
        "print(\"Skip-Gram similar to 'apple':\", model_skipgram.wv.most_similar('apple'))\n"
      ],
      "metadata": {
        "colab": {
          "base_uri": "https://localhost:8080/"
        },
        "id": "wFJk7vY_MRMp",
        "outputId": "3aca8074-303d-4546-8230-7ea1fabbb353"
      },
      "execution_count": 8,
      "outputs": [
        {
          "output_type": "stream",
          "name": "stdout",
          "text": [
            "CBOW vector for 'apple':\n",
            " [ 0.00018913  0.00615464 -0.01362529 -0.00275093  0.01533716  0.01469282\n",
            " -0.00734659  0.0052854  -0.01663426  0.01241097 -0.00927464 -0.00632821\n",
            "  0.01862271  0.00174677  0.01498141 -0.01214813  0.01032101  0.01984565\n",
            " -0.01691478 -0.01027138 -0.01412967 -0.0097253  -0.00755713 -0.0170724\n",
            "  0.01591121 -0.00968788  0.01684723  0.01052514 -0.01310005  0.00791574\n",
            "  0.0109403  -0.01485307 -0.01481144 -0.00495046 -0.01725145 -0.00316314\n",
            " -0.00080687  0.00659937  0.00288376 -0.00176284 -0.01118812  0.00346073\n",
            " -0.00179474  0.01358738  0.00794718  0.00905894  0.00286861 -0.00539971\n",
            " -0.00873363 -0.00206415]\n",
            "\n",
            "Skip-Gram vector for 'apple':\n",
            " [ 0.00018913  0.00615464 -0.01362529 -0.00275093  0.01533716  0.01469282\n",
            " -0.00734659  0.0052854  -0.01663426  0.01241097 -0.00927464 -0.00632821\n",
            "  0.01862271  0.00174677  0.01498141 -0.01214813  0.01032101  0.01984565\n",
            " -0.01691478 -0.01027138 -0.01412967 -0.0097253  -0.00755713 -0.0170724\n",
            "  0.01591121 -0.00968788  0.01684723  0.01052514 -0.01310005  0.00791574\n",
            "  0.0109403  -0.01485307 -0.01481144 -0.00495046 -0.01725145 -0.00316314\n",
            " -0.00080687  0.00659937  0.00288376 -0.00176284 -0.01118812  0.00346073\n",
            " -0.00179474  0.01358738  0.00794718  0.00905894  0.00286861 -0.00539971\n",
            " -0.00873363 -0.00206415]\n",
            "\n",
            "CBOW similar to 'apple': [('banana', 0.16563551127910614), ('fruits', 0.13662859797477722), ('orange', 0.12488988786935806), ('are', 0.10704139620065689), ('love', 0.10232099145650864), ('a', -0.03871110826730728), ('i', -0.056214287877082825), ('yellow', -0.06343827396631241), ('fruit', -0.09344357997179031), ('and', -0.11817795783281326)]\n",
            "Skip-Gram similar to 'apple': [('banana', 0.16563551127910614), ('fruits', 0.13660527765750885), ('orange', 0.12487184256315231), ('are', 0.10704139620065689), ('love', 0.10232099145650864), ('a', -0.03871110826730728), ('i', -0.056214287877082825), ('yellow', -0.06343827396631241), ('fruit', -0.09344357997179031), ('and', -0.11819971352815628)]\n"
          ]
        }
      ]
    },
    {
      "cell_type": "markdown",
      "source": [
        "<h3><b>RNN</h3>"
      ],
      "metadata": {
        "id": "H7s5GW2STNxv"
      }
    },
    {
      "cell_type": "markdown",
      "source": [
        "<h2>text classification</h2>"
      ],
      "metadata": {
        "id": "zxp53ZubTSzr"
      }
    },
    {
      "cell_type": "code",
      "execution_count": 9,
      "metadata": {
        "id": "yFxBMb8FTINS"
      },
      "outputs": [],
      "source": [
        "import pandas as pd\n",
        "import numpy as np\n",
        "import matplotlib.pyplot as plt\n",
        "import seaborn as sns\n",
        "import torch\n",
        "import torch.nn as nn\n",
        "from torch.utils.data import Dataset, DataLoader, random_split,TensorDataset\n",
        "from sklearn.preprocessing import LabelEncoder\n",
        "from sklearn.model_selection import train_test_split\n",
        "import re"
      ]
    },
    {
      "cell_type": "code",
      "source": [
        "data = pd.read_csv(\"/content/drive/MyDrive/DLL/Restaurant_Reviews.tsv\",delimiter='\\t')\n",
        "data.head()"
      ],
      "metadata": {
        "colab": {
          "base_uri": "https://localhost:8080/",
          "height": 206
        },
        "id": "Nn_1J-KCTd5t",
        "outputId": "78505ebd-5113-4176-895a-96228a1e9e0a"
      },
      "execution_count": 10,
      "outputs": [
        {
          "output_type": "execute_result",
          "data": {
            "text/plain": [
              "                                              Review  Liked\n",
              "0                           Wow... Loved this place.      1\n",
              "1                                 Crust is not good.      0\n",
              "2          Not tasty and the texture was just nasty.      0\n",
              "3  Stopped by during the late May bank holiday of...      1\n",
              "4  The selection on the menu was great and so wer...      1"
            ],
            "text/html": [
              "\n",
              "  <div id=\"df-45e85fae-e1c3-4e54-a7a5-3e93910d02d0\" class=\"colab-df-container\">\n",
              "    <div>\n",
              "<style scoped>\n",
              "    .dataframe tbody tr th:only-of-type {\n",
              "        vertical-align: middle;\n",
              "    }\n",
              "\n",
              "    .dataframe tbody tr th {\n",
              "        vertical-align: top;\n",
              "    }\n",
              "\n",
              "    .dataframe thead th {\n",
              "        text-align: right;\n",
              "    }\n",
              "</style>\n",
              "<table border=\"1\" class=\"dataframe\">\n",
              "  <thead>\n",
              "    <tr style=\"text-align: right;\">\n",
              "      <th></th>\n",
              "      <th>Review</th>\n",
              "      <th>Liked</th>\n",
              "    </tr>\n",
              "  </thead>\n",
              "  <tbody>\n",
              "    <tr>\n",
              "      <th>0</th>\n",
              "      <td>Wow... Loved this place.</td>\n",
              "      <td>1</td>\n",
              "    </tr>\n",
              "    <tr>\n",
              "      <th>1</th>\n",
              "      <td>Crust is not good.</td>\n",
              "      <td>0</td>\n",
              "    </tr>\n",
              "    <tr>\n",
              "      <th>2</th>\n",
              "      <td>Not tasty and the texture was just nasty.</td>\n",
              "      <td>0</td>\n",
              "    </tr>\n",
              "    <tr>\n",
              "      <th>3</th>\n",
              "      <td>Stopped by during the late May bank holiday of...</td>\n",
              "      <td>1</td>\n",
              "    </tr>\n",
              "    <tr>\n",
              "      <th>4</th>\n",
              "      <td>The selection on the menu was great and so wer...</td>\n",
              "      <td>1</td>\n",
              "    </tr>\n",
              "  </tbody>\n",
              "</table>\n",
              "</div>\n",
              "    <div class=\"colab-df-buttons\">\n",
              "\n",
              "  <div class=\"colab-df-container\">\n",
              "    <button class=\"colab-df-convert\" onclick=\"convertToInteractive('df-45e85fae-e1c3-4e54-a7a5-3e93910d02d0')\"\n",
              "            title=\"Convert this dataframe to an interactive table.\"\n",
              "            style=\"display:none;\">\n",
              "\n",
              "  <svg xmlns=\"http://www.w3.org/2000/svg\" height=\"24px\" viewBox=\"0 -960 960 960\">\n",
              "    <path d=\"M120-120v-720h720v720H120Zm60-500h600v-160H180v160Zm220 220h160v-160H400v160Zm0 220h160v-160H400v160ZM180-400h160v-160H180v160Zm440 0h160v-160H620v160ZM180-180h160v-160H180v160Zm440 0h160v-160H620v160Z\"/>\n",
              "  </svg>\n",
              "    </button>\n",
              "\n",
              "  <style>\n",
              "    .colab-df-container {\n",
              "      display:flex;\n",
              "      gap: 12px;\n",
              "    }\n",
              "\n",
              "    .colab-df-convert {\n",
              "      background-color: #E8F0FE;\n",
              "      border: none;\n",
              "      border-radius: 50%;\n",
              "      cursor: pointer;\n",
              "      display: none;\n",
              "      fill: #1967D2;\n",
              "      height: 32px;\n",
              "      padding: 0 0 0 0;\n",
              "      width: 32px;\n",
              "    }\n",
              "\n",
              "    .colab-df-convert:hover {\n",
              "      background-color: #E2EBFA;\n",
              "      box-shadow: 0px 1px 2px rgba(60, 64, 67, 0.3), 0px 1px 3px 1px rgba(60, 64, 67, 0.15);\n",
              "      fill: #174EA6;\n",
              "    }\n",
              "\n",
              "    .colab-df-buttons div {\n",
              "      margin-bottom: 4px;\n",
              "    }\n",
              "\n",
              "    [theme=dark] .colab-df-convert {\n",
              "      background-color: #3B4455;\n",
              "      fill: #D2E3FC;\n",
              "    }\n",
              "\n",
              "    [theme=dark] .colab-df-convert:hover {\n",
              "      background-color: #434B5C;\n",
              "      box-shadow: 0px 1px 3px 1px rgba(0, 0, 0, 0.15);\n",
              "      filter: drop-shadow(0px 1px 2px rgba(0, 0, 0, 0.3));\n",
              "      fill: #FFFFFF;\n",
              "    }\n",
              "  </style>\n",
              "\n",
              "    <script>\n",
              "      const buttonEl =\n",
              "        document.querySelector('#df-45e85fae-e1c3-4e54-a7a5-3e93910d02d0 button.colab-df-convert');\n",
              "      buttonEl.style.display =\n",
              "        google.colab.kernel.accessAllowed ? 'block' : 'none';\n",
              "\n",
              "      async function convertToInteractive(key) {\n",
              "        const element = document.querySelector('#df-45e85fae-e1c3-4e54-a7a5-3e93910d02d0');\n",
              "        const dataTable =\n",
              "          await google.colab.kernel.invokeFunction('convertToInteractive',\n",
              "                                                    [key], {});\n",
              "        if (!dataTable) return;\n",
              "\n",
              "        const docLinkHtml = 'Like what you see? Visit the ' +\n",
              "          '<a target=\"_blank\" href=https://colab.research.google.com/notebooks/data_table.ipynb>data table notebook</a>'\n",
              "          + ' to learn more about interactive tables.';\n",
              "        element.innerHTML = '';\n",
              "        dataTable['output_type'] = 'display_data';\n",
              "        await google.colab.output.renderOutput(dataTable, element);\n",
              "        const docLink = document.createElement('div');\n",
              "        docLink.innerHTML = docLinkHtml;\n",
              "        element.appendChild(docLink);\n",
              "      }\n",
              "    </script>\n",
              "  </div>\n",
              "\n",
              "\n",
              "<div id=\"df-1ea44c77-be5e-4de0-ba3d-fa9d9aee8c67\">\n",
              "  <button class=\"colab-df-quickchart\" onclick=\"quickchart('df-1ea44c77-be5e-4de0-ba3d-fa9d9aee8c67')\"\n",
              "            title=\"Suggest charts\"\n",
              "            style=\"display:none;\">\n",
              "\n",
              "<svg xmlns=\"http://www.w3.org/2000/svg\" height=\"24px\"viewBox=\"0 0 24 24\"\n",
              "     width=\"24px\">\n",
              "    <g>\n",
              "        <path d=\"M19 3H5c-1.1 0-2 .9-2 2v14c0 1.1.9 2 2 2h14c1.1 0 2-.9 2-2V5c0-1.1-.9-2-2-2zM9 17H7v-7h2v7zm4 0h-2V7h2v10zm4 0h-2v-4h2v4z\"/>\n",
              "    </g>\n",
              "</svg>\n",
              "  </button>\n",
              "\n",
              "<style>\n",
              "  .colab-df-quickchart {\n",
              "      --bg-color: #E8F0FE;\n",
              "      --fill-color: #1967D2;\n",
              "      --hover-bg-color: #E2EBFA;\n",
              "      --hover-fill-color: #174EA6;\n",
              "      --disabled-fill-color: #AAA;\n",
              "      --disabled-bg-color: #DDD;\n",
              "  }\n",
              "\n",
              "  [theme=dark] .colab-df-quickchart {\n",
              "      --bg-color: #3B4455;\n",
              "      --fill-color: #D2E3FC;\n",
              "      --hover-bg-color: #434B5C;\n",
              "      --hover-fill-color: #FFFFFF;\n",
              "      --disabled-bg-color: #3B4455;\n",
              "      --disabled-fill-color: #666;\n",
              "  }\n",
              "\n",
              "  .colab-df-quickchart {\n",
              "    background-color: var(--bg-color);\n",
              "    border: none;\n",
              "    border-radius: 50%;\n",
              "    cursor: pointer;\n",
              "    display: none;\n",
              "    fill: var(--fill-color);\n",
              "    height: 32px;\n",
              "    padding: 0;\n",
              "    width: 32px;\n",
              "  }\n",
              "\n",
              "  .colab-df-quickchart:hover {\n",
              "    background-color: var(--hover-bg-color);\n",
              "    box-shadow: 0 1px 2px rgba(60, 64, 67, 0.3), 0 1px 3px 1px rgba(60, 64, 67, 0.15);\n",
              "    fill: var(--button-hover-fill-color);\n",
              "  }\n",
              "\n",
              "  .colab-df-quickchart-complete:disabled,\n",
              "  .colab-df-quickchart-complete:disabled:hover {\n",
              "    background-color: var(--disabled-bg-color);\n",
              "    fill: var(--disabled-fill-color);\n",
              "    box-shadow: none;\n",
              "  }\n",
              "\n",
              "  .colab-df-spinner {\n",
              "    border: 2px solid var(--fill-color);\n",
              "    border-color: transparent;\n",
              "    border-bottom-color: var(--fill-color);\n",
              "    animation:\n",
              "      spin 1s steps(1) infinite;\n",
              "  }\n",
              "\n",
              "  @keyframes spin {\n",
              "    0% {\n",
              "      border-color: transparent;\n",
              "      border-bottom-color: var(--fill-color);\n",
              "      border-left-color: var(--fill-color);\n",
              "    }\n",
              "    20% {\n",
              "      border-color: transparent;\n",
              "      border-left-color: var(--fill-color);\n",
              "      border-top-color: var(--fill-color);\n",
              "    }\n",
              "    30% {\n",
              "      border-color: transparent;\n",
              "      border-left-color: var(--fill-color);\n",
              "      border-top-color: var(--fill-color);\n",
              "      border-right-color: var(--fill-color);\n",
              "    }\n",
              "    40% {\n",
              "      border-color: transparent;\n",
              "      border-right-color: var(--fill-color);\n",
              "      border-top-color: var(--fill-color);\n",
              "    }\n",
              "    60% {\n",
              "      border-color: transparent;\n",
              "      border-right-color: var(--fill-color);\n",
              "    }\n",
              "    80% {\n",
              "      border-color: transparent;\n",
              "      border-right-color: var(--fill-color);\n",
              "      border-bottom-color: var(--fill-color);\n",
              "    }\n",
              "    90% {\n",
              "      border-color: transparent;\n",
              "      border-bottom-color: var(--fill-color);\n",
              "    }\n",
              "  }\n",
              "</style>\n",
              "\n",
              "  <script>\n",
              "    async function quickchart(key) {\n",
              "      const quickchartButtonEl =\n",
              "        document.querySelector('#' + key + ' button');\n",
              "      quickchartButtonEl.disabled = true;  // To prevent multiple clicks.\n",
              "      quickchartButtonEl.classList.add('colab-df-spinner');\n",
              "      try {\n",
              "        const charts = await google.colab.kernel.invokeFunction(\n",
              "            'suggestCharts', [key], {});\n",
              "      } catch (error) {\n",
              "        console.error('Error during call to suggestCharts:', error);\n",
              "      }\n",
              "      quickchartButtonEl.classList.remove('colab-df-spinner');\n",
              "      quickchartButtonEl.classList.add('colab-df-quickchart-complete');\n",
              "    }\n",
              "    (() => {\n",
              "      let quickchartButtonEl =\n",
              "        document.querySelector('#df-1ea44c77-be5e-4de0-ba3d-fa9d9aee8c67 button');\n",
              "      quickchartButtonEl.style.display =\n",
              "        google.colab.kernel.accessAllowed ? 'block' : 'none';\n",
              "    })();\n",
              "  </script>\n",
              "</div>\n",
              "\n",
              "    </div>\n",
              "  </div>\n"
            ],
            "application/vnd.google.colaboratory.intrinsic+json": {
              "type": "dataframe",
              "variable_name": "data",
              "summary": "{\n  \"name\": \"data\",\n  \"rows\": 1000,\n  \"fields\": [\n    {\n      \"column\": \"Review\",\n      \"properties\": {\n        \"dtype\": \"string\",\n        \"num_unique_values\": 996,\n        \"samples\": [\n          \"They were excellent.\",\n          \"Your servers suck, wait, correction, our server Heimer sucked.\",\n          \"Will be back again!\"\n        ],\n        \"semantic_type\": \"\",\n        \"description\": \"\"\n      }\n    },\n    {\n      \"column\": \"Liked\",\n      \"properties\": {\n        \"dtype\": \"number\",\n        \"std\": 0,\n        \"min\": 0,\n        \"max\": 1,\n        \"num_unique_values\": 2,\n        \"samples\": [\n          0,\n          1\n        ],\n        \"semantic_type\": \"\",\n        \"description\": \"\"\n      }\n    }\n  ]\n}"
            }
          },
          "metadata": {},
          "execution_count": 10
        }
      ]
    },
    {
      "cell_type": "code",
      "source": [
        "def preprocess(text):\n",
        "  text = text.lower()\n",
        "  text = re.sub(r'[^a-z0-9\\s]','',text)\n",
        "  return text"
      ],
      "metadata": {
        "id": "wwgeQakrUOP7"
      },
      "execution_count": 11,
      "outputs": []
    },
    {
      "cell_type": "code",
      "source": [
        "texts = data['Review'].apply(preprocess).tolist()\n",
        "labels = data['Liked'].tolist()"
      ],
      "metadata": {
        "id": "9SwAvm7_T9NN"
      },
      "execution_count": 12,
      "outputs": []
    },
    {
      "cell_type": "code",
      "source": [
        "train_texts, temp_texts, train_labels, temp_labels = train_test_split(texts, labels, test_size=0.3)\n",
        "val_texts, test_texts, val_labels, test_labels = train_test_split(temp_texts, temp_labels, test_size=0.5)"
      ],
      "metadata": {
        "id": "ioKKFdODU7xH"
      },
      "execution_count": 13,
      "outputs": []
    },
    {
      "cell_type": "code",
      "source": [
        "word_to_idx = {\"<PAD>\": 0, \"<UNK>\": 1}\n",
        "for sent in train_texts:\n",
        "    for word in sent.split():\n",
        "        if word not in word_to_idx:\n",
        "            word_to_idx[word] = len(word_to_idx)\n",
        "\n",
        "max_len = max(len(sent.split()) for sent in train_texts)\n",
        "\n",
        "def encode_sentence(sent):\n",
        "    encoded = [word_to_idx.get(word, word_to_idx[\"<UNK>\"]) for word in sent.split()[:max_len]]\n",
        "    encoded += [0] * (max_len - len(encoded))\n",
        "    return encoded"
      ],
      "metadata": {
        "id": "3ZqE0kCrVEz1"
      },
      "execution_count": 14,
      "outputs": []
    },
    {
      "cell_type": "code",
      "source": [
        "X_train = torch.tensor([encode_sentence(sent) for sent in train_texts], dtype=torch.long)\n",
        "X_val = torch.tensor([encode_sentence(sent) for sent in val_texts], dtype=torch.long)\n",
        "X_test = torch.tensor([encode_sentence(sent) for sent in test_texts], dtype=torch.long)\n",
        "\"\"\"\n",
        "le = LabelEncoder()\n",
        "le.fit(train_labels+test_labels+val_labels)\n",
        "\n",
        "y_train = torch.tensor(le.transform(train_labels), dtype=torch.long)\n",
        "y_val = torch.tensor(le.transform(val_labels), dtype=torch.long)\n",
        "y_test = torch.tensor(le.transform(test_labels), dtype=torch.long)\n",
        "\"\"\"\n",
        "\n",
        "y_train = torch.tensor(train_labels, dtype=torch.float32)\n",
        "y_val = torch.tensor(val_labels, dtype=torch.float32)\n",
        "y_test = torch.tensor(test_labels, dtype=torch.float32)\n",
        "\n",
        "train_dataset = TensorDataset(X_train, y_train)\n",
        "val_dataset = TensorDataset(X_val, y_val)\n",
        "test_dataset = TensorDataset(X_test, y_test)\n",
        "\n",
        "train_loader = DataLoader(train_dataset, batch_size=32, shuffle=True)\n",
        "val_loader = DataLoader(val_dataset, batch_size=32)\n",
        "test_loader = DataLoader(test_dataset, batch_size=32)"
      ],
      "metadata": {
        "id": "o9Dx0EkZVWyv"
      },
      "execution_count": 15,
      "outputs": []
    },
    {
      "cell_type": "code",
      "source": [
        "class RNNClassifier(nn.Module):\n",
        "    def __init__(self, vocab_size, embed_dim, hidden_dim):\n",
        "        super(RNNClassifier, self).__init__()\n",
        "        self.embedding = nn.Embedding(num_embeddings=vocab_size,embedding_dim=embed_dim, padding_idx=0)\n",
        "        self.rnn = nn.RNN(input_size=embed_dim,hidden_size=hidden_dim,num_layers=2, batch_first=True)\n",
        "        #self.lstm = nn.LSTM(input_size=embed_dim,hidden_size=hidden_dim,num_layers=2, batch_first=True)\n",
        "        self.fc = nn.Linear(hidden_dim, 1)\n",
        "        self.act = nn.Sigmoid()\n",
        "\n",
        "    def forward(self, x):\n",
        "        x = self.embedding(x)\n",
        "        _, hidden = self.rnn(x)\n",
        "        #_, (hidden, _) = self.lstm(x)\n",
        "        layer1 = self.fc(hidden[-1])\n",
        "        return self.act(layer1)"
      ],
      "metadata": {
        "id": "xOPUSXBrVxXn"
      },
      "execution_count": 16,
      "outputs": []
    },
    {
      "cell_type": "code",
      "source": [
        "device = torch.device(\"cuda\" if torch.cuda.is_available() else \"cpu\")\n",
        "model = RNNClassifier(len(word_to_idx), embed_dim=64, hidden_dim=64).to(device)"
      ],
      "metadata": {
        "id": "LBgdMVw5FICW"
      },
      "execution_count": 17,
      "outputs": []
    },
    {
      "cell_type": "code",
      "source": [
        "criterion = nn.BCELoss()\n",
        "optimizer = torch.optim.Adam(model.parameters(), lr=0.001)"
      ],
      "metadata": {
        "id": "Zm16bGYZFKBa"
      },
      "execution_count": 18,
      "outputs": []
    },
    {
      "cell_type": "code",
      "source": [
        "def train(model, loader):\n",
        "    model.train()\n",
        "    total_loss = 0\n",
        "    for x, y in loader:\n",
        "        x, y = x.to(device), y.to(device)\n",
        "        optimizer.zero_grad()\n",
        "        outputs = model(x).squeeze()\n",
        "        loss = criterion(outputs,y)\n",
        "        loss.backward()\n",
        "        optimizer.step()\n",
        "        total_loss += loss.item()\n",
        "    return total_loss / len(loader)"
      ],
      "metadata": {
        "id": "w9IkqyAJFfHY"
      },
      "execution_count": 19,
      "outputs": []
    },
    {
      "cell_type": "code",
      "source": [
        "def evaluate(model, loader):\n",
        "    predicted = []\n",
        "    actual = []\n",
        "    model.eval()\n",
        "    correct = total = 0\n",
        "    with torch.no_grad():\n",
        "        for x, y in loader:\n",
        "            x, y = x.to(device), y.to(device)\n",
        "            outputs = model(x).squeeze()\n",
        "            preds = (outputs>=0.5).float()\n",
        "            correct += (preds == y).sum().item()\n",
        "            total += y.size(0)\n",
        "            predicted.extend(preds.numpy())\n",
        "            actual.extend(y.float().numpy())\n",
        "    return predicted,actual,correct / total *100"
      ],
      "metadata": {
        "id": "hwb5Md2DFu8h"
      },
      "execution_count": 20,
      "outputs": []
    },
    {
      "cell_type": "code",
      "source": [
        "for epoch in range(100):\n",
        "    train_loss = train(model, train_loader)\n",
        "    a,b,val_acc = evaluate(model, val_loader)\n",
        "    print(f\"Epoch {epoch+1}: Train Loss = {train_loss:.4f}, Val Accuracy = {val_acc:.4f}\")\n",
        "\n",
        "y_pred,y_act,test_acc = evaluate(model, test_loader)\n",
        "print(f\"\\nTest Accuracy: {test_acc:.4f}\")"
      ],
      "metadata": {
        "colab": {
          "base_uri": "https://localhost:8080/"
        },
        "id": "JWHnBY5kG_fT",
        "outputId": "835e4b48-f1be-47d6-bf45-752f55da5c48"
      },
      "execution_count": 21,
      "outputs": [
        {
          "output_type": "stream",
          "name": "stdout",
          "text": [
            "Epoch 1: Train Loss = 0.6952, Val Accuracy = 50.0000\n",
            "Epoch 2: Train Loss = 0.6921, Val Accuracy = 47.3333\n",
            "Epoch 3: Train Loss = 0.6886, Val Accuracy = 50.0000\n",
            "Epoch 4: Train Loss = 0.6756, Val Accuracy = 48.6667\n",
            "Epoch 5: Train Loss = 0.6761, Val Accuracy = 42.0000\n",
            "Epoch 6: Train Loss = 0.6406, Val Accuracy = 44.6667\n",
            "Epoch 7: Train Loss = 0.6304, Val Accuracy = 61.3333\n",
            "Epoch 8: Train Loss = 0.6287, Val Accuracy = 48.0000\n",
            "Epoch 9: Train Loss = 0.5945, Val Accuracy = 50.0000\n",
            "Epoch 10: Train Loss = 0.5604, Val Accuracy = 46.0000\n",
            "Epoch 11: Train Loss = 0.5216, Val Accuracy = 48.6667\n",
            "Epoch 12: Train Loss = 0.4773, Val Accuracy = 48.6667\n",
            "Epoch 13: Train Loss = 0.4775, Val Accuracy = 46.6667\n",
            "Epoch 14: Train Loss = 0.4771, Val Accuracy = 50.6667\n",
            "Epoch 15: Train Loss = 0.5686, Val Accuracy = 56.6667\n",
            "Epoch 16: Train Loss = 0.7059, Val Accuracy = 56.6667\n",
            "Epoch 17: Train Loss = 0.6582, Val Accuracy = 47.3333\n",
            "Epoch 18: Train Loss = 0.6386, Val Accuracy = 54.6667\n",
            "Epoch 19: Train Loss = 0.5900, Val Accuracy = 50.0000\n",
            "Epoch 20: Train Loss = 0.5563, Val Accuracy = 52.0000\n",
            "Epoch 21: Train Loss = 0.5269, Val Accuracy = 51.3333\n",
            "Epoch 22: Train Loss = 0.4677, Val Accuracy = 50.6667\n",
            "Epoch 23: Train Loss = 0.4222, Val Accuracy = 54.6667\n",
            "Epoch 24: Train Loss = 0.4121, Val Accuracy = 55.3333\n",
            "Epoch 25: Train Loss = 0.3750, Val Accuracy = 52.6667\n",
            "Epoch 26: Train Loss = 0.3368, Val Accuracy = 52.0000\n",
            "Epoch 27: Train Loss = 0.3214, Val Accuracy = 51.3333\n",
            "Epoch 28: Train Loss = 0.3165, Val Accuracy = 50.0000\n",
            "Epoch 29: Train Loss = 0.2817, Val Accuracy = 56.0000\n",
            "Epoch 30: Train Loss = 0.2595, Val Accuracy = 56.0000\n",
            "Epoch 31: Train Loss = 0.2871, Val Accuracy = 53.3333\n",
            "Epoch 32: Train Loss = 0.2541, Val Accuracy = 56.0000\n",
            "Epoch 33: Train Loss = 0.2342, Val Accuracy = 55.3333\n",
            "Epoch 34: Train Loss = 0.2063, Val Accuracy = 54.0000\n",
            "Epoch 35: Train Loss = 0.1852, Val Accuracy = 56.0000\n",
            "Epoch 36: Train Loss = 0.1719, Val Accuracy = 54.0000\n",
            "Epoch 37: Train Loss = 0.1772, Val Accuracy = 52.0000\n",
            "Epoch 38: Train Loss = 0.1819, Val Accuracy = 58.0000\n",
            "Epoch 39: Train Loss = 0.2592, Val Accuracy = 56.0000\n",
            "Epoch 40: Train Loss = 0.2718, Val Accuracy = 56.6667\n",
            "Epoch 41: Train Loss = 0.2253, Val Accuracy = 56.6667\n",
            "Epoch 42: Train Loss = 0.1531, Val Accuracy = 62.0000\n",
            "Epoch 43: Train Loss = 0.1140, Val Accuracy = 56.6667\n",
            "Epoch 44: Train Loss = 0.1019, Val Accuracy = 53.3333\n",
            "Epoch 45: Train Loss = 0.0878, Val Accuracy = 52.0000\n",
            "Epoch 46: Train Loss = 0.0739, Val Accuracy = 52.6667\n",
            "Epoch 47: Train Loss = 0.0795, Val Accuracy = 54.0000\n",
            "Epoch 48: Train Loss = 0.0783, Val Accuracy = 54.6667\n",
            "Epoch 49: Train Loss = 0.0636, Val Accuracy = 55.3333\n",
            "Epoch 50: Train Loss = 0.0646, Val Accuracy = 56.6667\n",
            "Epoch 51: Train Loss = 0.0574, Val Accuracy = 54.0000\n",
            "Epoch 52: Train Loss = 0.0507, Val Accuracy = 50.6667\n",
            "Epoch 53: Train Loss = 0.0478, Val Accuracy = 53.3333\n",
            "Epoch 54: Train Loss = 0.0582, Val Accuracy = 46.6667\n",
            "Epoch 55: Train Loss = 0.0807, Val Accuracy = 49.3333\n",
            "Epoch 56: Train Loss = 0.0843, Val Accuracy = 50.0000\n",
            "Epoch 57: Train Loss = 0.0663, Val Accuracy = 54.6667\n",
            "Epoch 58: Train Loss = 0.0463, Val Accuracy = 56.0000\n",
            "Epoch 59: Train Loss = 0.0444, Val Accuracy = 56.0000\n",
            "Epoch 60: Train Loss = 0.0391, Val Accuracy = 54.0000\n",
            "Epoch 61: Train Loss = 0.0360, Val Accuracy = 55.3333\n",
            "Epoch 62: Train Loss = 0.0335, Val Accuracy = 53.3333\n",
            "Epoch 63: Train Loss = 0.0348, Val Accuracy = 53.3333\n",
            "Epoch 64: Train Loss = 0.0358, Val Accuracy = 53.3333\n",
            "Epoch 65: Train Loss = 0.0318, Val Accuracy = 56.0000\n",
            "Epoch 66: Train Loss = 0.0321, Val Accuracy = 54.0000\n",
            "Epoch 67: Train Loss = 0.0310, Val Accuracy = 52.6667\n",
            "Epoch 68: Train Loss = 0.0300, Val Accuracy = 53.3333\n",
            "Epoch 69: Train Loss = 0.0296, Val Accuracy = 52.0000\n",
            "Epoch 70: Train Loss = 0.0295, Val Accuracy = 51.3333\n",
            "Epoch 71: Train Loss = 0.0295, Val Accuracy = 50.6667\n",
            "Epoch 72: Train Loss = 0.0301, Val Accuracy = 52.0000\n",
            "Epoch 73: Train Loss = 0.0285, Val Accuracy = 51.3333\n",
            "Epoch 74: Train Loss = 0.0263, Val Accuracy = 50.6667\n",
            "Epoch 75: Train Loss = 0.0269, Val Accuracy = 51.3333\n",
            "Epoch 76: Train Loss = 0.0250, Val Accuracy = 48.6667\n",
            "Epoch 77: Train Loss = 0.0233, Val Accuracy = 49.3333\n",
            "Epoch 78: Train Loss = 0.0211, Val Accuracy = 50.6667\n",
            "Epoch 79: Train Loss = 0.0211, Val Accuracy = 52.0000\n",
            "Epoch 80: Train Loss = 0.0192, Val Accuracy = 52.0000\n",
            "Epoch 81: Train Loss = 0.0183, Val Accuracy = 50.0000\n",
            "Epoch 82: Train Loss = 0.0186, Val Accuracy = 49.3333\n",
            "Epoch 83: Train Loss = 0.0178, Val Accuracy = 49.3333\n",
            "Epoch 84: Train Loss = 0.0177, Val Accuracy = 49.3333\n",
            "Epoch 85: Train Loss = 0.0175, Val Accuracy = 49.3333\n",
            "Epoch 86: Train Loss = 0.0174, Val Accuracy = 49.3333\n",
            "Epoch 87: Train Loss = 0.0173, Val Accuracy = 48.6667\n",
            "Epoch 88: Train Loss = 0.0174, Val Accuracy = 49.3333\n",
            "Epoch 89: Train Loss = 0.0171, Val Accuracy = 49.3333\n",
            "Epoch 90: Train Loss = 0.0170, Val Accuracy = 49.3333\n",
            "Epoch 91: Train Loss = 0.0178, Val Accuracy = 49.3333\n",
            "Epoch 92: Train Loss = 0.0168, Val Accuracy = 48.6667\n",
            "Epoch 93: Train Loss = 0.0163, Val Accuracy = 48.6667\n",
            "Epoch 94: Train Loss = 0.0155, Val Accuracy = 49.3333\n",
            "Epoch 95: Train Loss = 0.0153, Val Accuracy = 48.0000\n",
            "Epoch 96: Train Loss = 0.0147, Val Accuracy = 49.3333\n",
            "Epoch 97: Train Loss = 0.0143, Val Accuracy = 50.0000\n",
            "Epoch 98: Train Loss = 0.0147, Val Accuracy = 48.0000\n",
            "Epoch 99: Train Loss = 0.0149, Val Accuracy = 50.0000\n",
            "Epoch 100: Train Loss = 0.0499, Val Accuracy = 52.6667\n",
            "\n",
            "Test Accuracy: 52.6667\n"
          ]
        }
      ]
    },
    {
      "cell_type": "markdown",
      "source": [
        "Text or next word prediction"
      ],
      "metadata": {
        "id": "eaBaJT-WO8su"
      }
    },
    {
      "cell_type": "code",
      "source": [
        "import torch\n",
        "import torch.nn as nn\n",
        "from torch.utils.data import Dataset, DataLoader,TensorDataset\n",
        "import numpy as np\n",
        "\n",
        "data = pd.read_csv(\"/content/drive/MyDrive/DLL/Restaurant_Reviews.tsv\",delimiter='\\t')"
      ],
      "metadata": {
        "id": "UXRDIh4yHM7_"
      },
      "execution_count": 4,
      "outputs": []
    },
    {
      "cell_type": "code",
      "source": [
        "def preprocess(text):\n",
        "  text = text.lower()\n",
        "  text = re.sub(r'[^a-z0-9\\s]','',text)\n",
        "  return text\n",
        "\n",
        "corpus = data['Review'].apply(preprocess).tolist()"
      ],
      "metadata": {
        "id": "m5E9KKzhZi_n"
      },
      "execution_count": 5,
      "outputs": []
    },
    {
      "cell_type": "code",
      "source": [
        "train_sentences, temp_sentences = train_test_split(corpus, test_size=0.3, random_state=42)\n",
        "val_sentences, test_sentences = train_test_split(temp_sentences, test_size=0.5, random_state=42)"
      ],
      "metadata": {
        "id": "WUORlebrcGCa"
      },
      "execution_count": 6,
      "outputs": []
    },
    {
      "cell_type": "code",
      "source": [
        "word_to_idx = {\"<PAD>\": 0, \"<UNK>\": 1}\n",
        "for sentence in train_sentences:\n",
        "    for word in sentence.split():\n",
        "        if word not in word_to_idx:\n",
        "            word_to_idx[word] = len(word_to_idx)\n",
        "\n",
        "idx_to_word = {idx: word for word, idx in word_to_idx.items()}\n",
        "vocab_size = len(word_to_idx)\n",
        "print(f\"Vocab size: {vocab_size}\")"
      ],
      "metadata": {
        "colab": {
          "base_uri": "https://localhost:8080/"
        },
        "id": "y53bSR6AQHSj",
        "outputId": "eadc0fc7-4e6d-476b-90f7-da91f0ae9f35"
      },
      "execution_count": 7,
      "outputs": [
        {
          "output_type": "stream",
          "name": "stdout",
          "text": [
            "Vocab size: 1712\n"
          ]
        }
      ]
    },
    {
      "cell_type": "code",
      "source": [
        "sequence_length = 2  # how many words used to predict the next\n",
        "\n",
        "def make_sequences(sentences, seq_len):\n",
        "    sequences = []\n",
        "    for sentence in sentences:\n",
        "        words = sentence.split()\n",
        "        if len(words) < seq_len + 1:\n",
        "            continue\n",
        "        for i in range(len(words) - seq_len):\n",
        "            input_seq = words[i:i+seq_len]\n",
        "            target = words[i+seq_len]\n",
        "            sequences.append((input_seq, target))\n",
        "    return sequences\n",
        "\n",
        "train_seq = make_sequences(train_sentences, sequence_length)\n",
        "val_seq = make_sequences(val_sentences, sequence_length)\n",
        "test_seq = make_sequences(test_sentences, sequence_length)"
      ],
      "metadata": {
        "id": "GXJXG9HGQRig"
      },
      "execution_count": 8,
      "outputs": []
    },
    {
      "cell_type": "code",
      "source": [
        "def encode(seq):\n",
        "    return [word_to_idx.get(word, word_to_idx[\"<UNK>\"]) for word in seq]\n",
        "\n",
        "def prepare_dataset(sequences):\n",
        "    X = [encode(seq) for seq, _ in sequences]\n",
        "    y = [word_to_idx.get(target, word_to_idx[\"<UNK>\"]) for _, target in sequences]\n",
        "    X = torch.tensor(X, dtype=torch.long)\n",
        "    y = torch.tensor(y, dtype=torch.long)\n",
        "    return TensorDataset(X, y)\n",
        "\n",
        "train_dataset = prepare_dataset(train_seq)\n",
        "val_dataset = prepare_dataset(val_seq)\n",
        "test_dataset = prepare_dataset(test_seq)\n",
        "\n",
        "train_loader = DataLoader(train_dataset, batch_size=32, shuffle=True)\n",
        "val_loader = DataLoader(val_dataset, batch_size=32)\n",
        "test_loader = DataLoader(test_dataset, batch_size=32)"
      ],
      "metadata": {
        "id": "-IUNnt1nRNvB"
      },
      "execution_count": 9,
      "outputs": []
    },
    {
      "cell_type": "code",
      "source": [
        "class NextWordRNN(nn.Module):\n",
        "    def __init__(self, vocab_size, embed_dim=64, hidden_dim=128):\n",
        "        super(NextWordRNN, self).__init__()\n",
        "        self.embedding = nn.Embedding(vocab_size, embed_dim, padding_idx=0)\n",
        "        #self.rnn = nn.RNN(embed_dim, hidden_dim, batch_first=True,num_layers=2)\n",
        "        self.lstm = nn.LSTM(embed_dim, hidden_dim, batch_first=True,num_layers=2)\n",
        "        self.fc = nn.Linear(hidden_dim, vocab_size)  # Predict next word from hidden state\n",
        "\n",
        "    def forward(self, x):\n",
        "        x = self.embedding(x)              # (batch_size, seq_len, embed_dim)\n",
        "        #_, h_n = self.rnn(x)               # h_n: (num_layers * num_directions, batch, hidden_size)\n",
        "        _,(h_n,_) = self.lstm(x)\n",
        "        logits = self.fc(h_n[-1])          # Use final hidden state\n",
        "        return logits                      # (batch, vocab_size)"
      ],
      "metadata": {
        "id": "mzwPMF9bYgyZ"
      },
      "execution_count": 10,
      "outputs": []
    },
    {
      "cell_type": "code",
      "source": [
        "device = torch.device(\"cuda\" if torch.cuda.is_available() else \"cpu\")\n",
        "model = NextWordRNN(vocab_size).to(device)\n",
        "\n",
        "optimizer = torch.optim.Adam(model.parameters(), lr=0.005)\n",
        "criterion = nn.CrossEntropyLoss()"
      ],
      "metadata": {
        "id": "FotQdMp7uxKk"
      },
      "execution_count": 11,
      "outputs": []
    },
    {
      "cell_type": "code",
      "source": [
        "def train(model, loader):\n",
        "    model.train()\n",
        "    total_loss = 0\n",
        "    for X_batch, y_batch in loader:\n",
        "        X_batch, y_batch = X_batch.to(device), y_batch.to(device)\n",
        "        optimizer.zero_grad()\n",
        "        outputs = model(X_batch)                     # (batch, vocab_size)\n",
        "        loss = criterion(outputs, y_batch)           # CrossEntropy expects raw logits\n",
        "        loss.backward()\n",
        "        optimizer.step()\n",
        "        total_loss += loss.item()\n",
        "    return total_loss / len(loader)"
      ],
      "metadata": {
        "id": "cxocH2RIujJo"
      },
      "execution_count": 12,
      "outputs": []
    },
    {
      "cell_type": "code",
      "source": [
        "def evaluate(model, loader):\n",
        "    model.eval()\n",
        "    correct = total = 0\n",
        "    predicted = []\n",
        "    actual = []\n",
        "    with torch.no_grad():\n",
        "        for X_batch, y_batch in loader:\n",
        "            X_batch, y_batch = X_batch.to(device), y_batch.to(device)\n",
        "            outputs = model(X_batch)\n",
        "            preds = outputs.argmax(dim=1)           # Choose the word with highest logit\n",
        "            correct += (preds == y_batch).sum().item()\n",
        "            total += y_batch.size(0)\n",
        "            predicted.extend(preds.float().numpy())\n",
        "            actual.extend(y_batch.float().numpy())\n",
        "    return predicted,actual,correct / total * 100"
      ],
      "metadata": {
        "id": "fHcrKQnRvvbv"
      },
      "execution_count": 13,
      "outputs": []
    },
    {
      "cell_type": "code",
      "source": [
        "for epoch in range(200):\n",
        "    train_loss = train(model, train_loader)\n",
        "    a,b,val_acc = evaluate(model, val_loader)\n",
        "    print(f\"Epoch {epoch+1}: Train Loss = {train_loss:.4f}, Val Accuracy = {val_acc:.2f}%\")\n",
        "\n",
        "y_pred,y_act,test_acc = evaluate(model, test_loader)\n",
        "print(f\"\\nTest Accuracy: {test_acc:.2f}%\")"
      ],
      "metadata": {
        "colab": {
          "base_uri": "https://localhost:8080/"
        },
        "id": "Wj68JodwwDBH",
        "outputId": "ee186e35-a16d-4174-bf70-35bcb8b217e2"
      },
      "execution_count": 14,
      "outputs": [
        {
          "output_type": "stream",
          "name": "stdout",
          "text": [
            "Epoch 1: Train Loss = 6.4829, Val Accuracy = 8.11%\n",
            "Epoch 2: Train Loss = 5.6867, Val Accuracy = 10.52%\n",
            "Epoch 3: Train Loss = 4.9593, Val Accuracy = 10.05%\n",
            "Epoch 4: Train Loss = 4.0460, Val Accuracy = 9.82%\n",
            "Epoch 5: Train Loss = 3.0866, Val Accuracy = 10.13%\n",
            "Epoch 6: Train Loss = 2.2319, Val Accuracy = 9.35%\n",
            "Epoch 7: Train Loss = 1.6670, Val Accuracy = 9.28%\n",
            "Epoch 8: Train Loss = 1.3390, Val Accuracy = 8.73%\n",
            "Epoch 9: Train Loss = 1.1506, Val Accuracy = 8.18%\n",
            "Epoch 10: Train Loss = 1.0442, Val Accuracy = 8.73%\n",
            "Epoch 11: Train Loss = 0.9774, Val Accuracy = 8.65%\n",
            "Epoch 12: Train Loss = 0.9396, Val Accuracy = 8.89%\n",
            "Epoch 13: Train Loss = 0.9125, Val Accuracy = 8.96%\n",
            "Epoch 14: Train Loss = 0.8855, Val Accuracy = 9.74%\n",
            "Epoch 15: Train Loss = 0.8718, Val Accuracy = 8.65%\n",
            "Epoch 16: Train Loss = 0.8551, Val Accuracy = 9.43%\n",
            "Epoch 17: Train Loss = 0.8417, Val Accuracy = 8.50%\n",
            "Epoch 18: Train Loss = 0.8325, Val Accuracy = 8.34%\n",
            "Epoch 19: Train Loss = 0.8229, Val Accuracy = 8.42%\n",
            "Epoch 20: Train Loss = 0.8261, Val Accuracy = 8.96%\n",
            "Epoch 21: Train Loss = 0.8199, Val Accuracy = 8.18%\n",
            "Epoch 22: Train Loss = 0.8197, Val Accuracy = 8.42%\n",
            "Epoch 23: Train Loss = 0.8161, Val Accuracy = 8.50%\n",
            "Epoch 24: Train Loss = 0.7970, Val Accuracy = 9.04%\n",
            "Epoch 25: Train Loss = 0.7979, Val Accuracy = 8.89%\n",
            "Epoch 26: Train Loss = 0.7934, Val Accuracy = 7.79%\n",
            "Epoch 27: Train Loss = 0.7927, Val Accuracy = 8.57%\n",
            "Epoch 28: Train Loss = 0.7935, Val Accuracy = 9.12%\n",
            "Epoch 29: Train Loss = 0.8023, Val Accuracy = 8.81%\n",
            "Epoch 30: Train Loss = 0.8137, Val Accuracy = 8.26%\n",
            "Epoch 31: Train Loss = 0.8584, Val Accuracy = 8.73%\n",
            "Epoch 32: Train Loss = 0.9217, Val Accuracy = 8.57%\n",
            "Epoch 33: Train Loss = 0.9428, Val Accuracy = 7.40%\n",
            "Epoch 34: Train Loss = 0.8715, Val Accuracy = 8.42%\n",
            "Epoch 35: Train Loss = 0.8087, Val Accuracy = 8.11%\n",
            "Epoch 36: Train Loss = 0.7699, Val Accuracy = 8.18%\n",
            "Epoch 37: Train Loss = 0.7464, Val Accuracy = 8.11%\n",
            "Epoch 38: Train Loss = 0.7388, Val Accuracy = 8.11%\n",
            "Epoch 39: Train Loss = 0.7227, Val Accuracy = 8.57%\n",
            "Epoch 40: Train Loss = 0.7195, Val Accuracy = 8.81%\n",
            "Epoch 41: Train Loss = 0.7196, Val Accuracy = 9.35%\n",
            "Epoch 42: Train Loss = 0.7194, Val Accuracy = 9.20%\n",
            "Epoch 43: Train Loss = 0.7091, Val Accuracy = 8.81%\n",
            "Epoch 44: Train Loss = 0.7132, Val Accuracy = 8.03%\n",
            "Epoch 45: Train Loss = 0.7087, Val Accuracy = 9.04%\n",
            "Epoch 46: Train Loss = 0.7117, Val Accuracy = 9.12%\n",
            "Epoch 47: Train Loss = 0.7099, Val Accuracy = 8.42%\n",
            "Epoch 48: Train Loss = 0.7155, Val Accuracy = 9.04%\n",
            "Epoch 49: Train Loss = 0.7214, Val Accuracy = 8.96%\n",
            "Epoch 50: Train Loss = 0.7240, Val Accuracy = 9.20%\n",
            "Epoch 51: Train Loss = 0.7443, Val Accuracy = 9.04%\n",
            "Epoch 52: Train Loss = 1.0155, Val Accuracy = 8.26%\n",
            "Epoch 53: Train Loss = 1.2972, Val Accuracy = 8.03%\n",
            "Epoch 54: Train Loss = 0.9501, Val Accuracy = 9.12%\n",
            "Epoch 55: Train Loss = 0.8109, Val Accuracy = 9.20%\n",
            "Epoch 56: Train Loss = 0.7526, Val Accuracy = 9.12%\n",
            "Epoch 57: Train Loss = 0.7235, Val Accuracy = 9.28%\n",
            "Epoch 58: Train Loss = 0.7141, Val Accuracy = 9.66%\n",
            "Epoch 59: Train Loss = 0.7020, Val Accuracy = 9.43%\n",
            "Epoch 60: Train Loss = 0.7042, Val Accuracy = 9.20%\n",
            "Epoch 61: Train Loss = 0.6958, Val Accuracy = 9.59%\n",
            "Epoch 62: Train Loss = 0.6940, Val Accuracy = 8.50%\n",
            "Epoch 63: Train Loss = 0.6933, Val Accuracy = 9.51%\n",
            "Epoch 64: Train Loss = 0.6939, Val Accuracy = 9.51%\n",
            "Epoch 65: Train Loss = 0.6964, Val Accuracy = 9.59%\n",
            "Epoch 66: Train Loss = 0.6881, Val Accuracy = 10.05%\n",
            "Epoch 67: Train Loss = 0.6859, Val Accuracy = 9.04%\n",
            "Epoch 68: Train Loss = 0.6876, Val Accuracy = 9.90%\n",
            "Epoch 69: Train Loss = 0.6878, Val Accuracy = 9.90%\n",
            "Epoch 70: Train Loss = 0.6852, Val Accuracy = 9.59%\n",
            "Epoch 71: Train Loss = 0.6885, Val Accuracy = 8.96%\n",
            "Epoch 72: Train Loss = 0.6935, Val Accuracy = 9.90%\n",
            "Epoch 73: Train Loss = 0.7029, Val Accuracy = 9.66%\n",
            "Epoch 74: Train Loss = 0.7168, Val Accuracy = 9.35%\n",
            "Epoch 75: Train Loss = 0.8229, Val Accuracy = 8.18%\n",
            "Epoch 76: Train Loss = 1.1323, Val Accuracy = 7.56%\n",
            "Epoch 77: Train Loss = 1.0068, Val Accuracy = 8.34%\n",
            "Epoch 78: Train Loss = 0.8385, Val Accuracy = 8.89%\n",
            "Epoch 79: Train Loss = 0.7622, Val Accuracy = 8.73%\n",
            "Epoch 80: Train Loss = 0.7216, Val Accuracy = 8.65%\n",
            "Epoch 81: Train Loss = 0.6995, Val Accuracy = 8.96%\n",
            "Epoch 82: Train Loss = 0.6911, Val Accuracy = 8.11%\n",
            "Epoch 83: Train Loss = 0.6867, Val Accuracy = 8.96%\n",
            "Epoch 84: Train Loss = 0.6794, Val Accuracy = 9.20%\n",
            "Epoch 85: Train Loss = 0.6783, Val Accuracy = 9.20%\n",
            "Epoch 86: Train Loss = 0.6768, Val Accuracy = 9.35%\n",
            "Epoch 87: Train Loss = 0.6771, Val Accuracy = 8.81%\n",
            "Epoch 88: Train Loss = 0.6731, Val Accuracy = 8.89%\n",
            "Epoch 89: Train Loss = 0.6742, Val Accuracy = 9.04%\n",
            "Epoch 90: Train Loss = 0.6735, Val Accuracy = 8.81%\n",
            "Epoch 91: Train Loss = 0.6724, Val Accuracy = 8.65%\n",
            "Epoch 92: Train Loss = 0.6703, Val Accuracy = 8.89%\n",
            "Epoch 93: Train Loss = 0.6754, Val Accuracy = 8.57%\n",
            "Epoch 94: Train Loss = 0.6755, Val Accuracy = 8.96%\n",
            "Epoch 95: Train Loss = 0.6778, Val Accuracy = 8.81%\n",
            "Epoch 96: Train Loss = 0.6912, Val Accuracy = 8.81%\n",
            "Epoch 97: Train Loss = 0.7112, Val Accuracy = 9.43%\n",
            "Epoch 98: Train Loss = 0.8288, Val Accuracy = 8.26%\n",
            "Epoch 99: Train Loss = 1.0792, Val Accuracy = 8.65%\n",
            "Epoch 100: Train Loss = 0.9397, Val Accuracy = 8.50%\n",
            "Epoch 101: Train Loss = 0.7946, Val Accuracy = 8.73%\n",
            "Epoch 102: Train Loss = 0.7314, Val Accuracy = 9.35%\n",
            "Epoch 103: Train Loss = 0.7010, Val Accuracy = 9.20%\n",
            "Epoch 104: Train Loss = 0.6813, Val Accuracy = 9.12%\n",
            "Epoch 105: Train Loss = 0.6716, Val Accuracy = 8.81%\n",
            "Epoch 106: Train Loss = 0.6702, Val Accuracy = 8.89%\n",
            "Epoch 107: Train Loss = 0.6660, Val Accuracy = 9.59%\n",
            "Epoch 108: Train Loss = 0.6590, Val Accuracy = 8.89%\n",
            "Epoch 109: Train Loss = 0.6595, Val Accuracy = 9.12%\n",
            "Epoch 110: Train Loss = 0.6563, Val Accuracy = 8.42%\n",
            "Epoch 111: Train Loss = 0.6594, Val Accuracy = 9.59%\n",
            "Epoch 112: Train Loss = 0.6576, Val Accuracy = 8.65%\n",
            "Epoch 113: Train Loss = 0.6579, Val Accuracy = 9.43%\n",
            "Epoch 114: Train Loss = 0.6563, Val Accuracy = 9.20%\n",
            "Epoch 115: Train Loss = 0.6583, Val Accuracy = 9.12%\n",
            "Epoch 116: Train Loss = 0.6579, Val Accuracy = 8.57%\n",
            "Epoch 117: Train Loss = 0.6623, Val Accuracy = 8.81%\n",
            "Epoch 118: Train Loss = 0.6660, Val Accuracy = 8.89%\n",
            "Epoch 119: Train Loss = 0.6721, Val Accuracy = 9.20%\n",
            "Epoch 120: Train Loss = 0.6846, Val Accuracy = 9.20%\n",
            "Epoch 121: Train Loss = 0.7530, Val Accuracy = 7.72%\n",
            "Epoch 122: Train Loss = 1.0498, Val Accuracy = 8.42%\n",
            "Epoch 123: Train Loss = 0.9992, Val Accuracy = 8.50%\n",
            "Epoch 124: Train Loss = 0.8279, Val Accuracy = 9.51%\n",
            "Epoch 125: Train Loss = 0.7390, Val Accuracy = 8.96%\n",
            "Epoch 126: Train Loss = 0.6997, Val Accuracy = 8.81%\n",
            "Epoch 127: Train Loss = 0.6787, Val Accuracy = 9.12%\n",
            "Epoch 128: Train Loss = 0.6675, Val Accuracy = 8.89%\n",
            "Epoch 129: Train Loss = 0.6610, Val Accuracy = 8.65%\n",
            "Epoch 130: Train Loss = 0.6521, Val Accuracy = 8.81%\n",
            "Epoch 131: Train Loss = 0.6545, Val Accuracy = 9.12%\n",
            "Epoch 132: Train Loss = 0.6568, Val Accuracy = 9.04%\n",
            "Epoch 133: Train Loss = 0.6486, Val Accuracy = 8.42%\n",
            "Epoch 134: Train Loss = 0.6494, Val Accuracy = 8.73%\n",
            "Epoch 135: Train Loss = 0.6478, Val Accuracy = 8.42%\n",
            "Epoch 136: Train Loss = 0.6455, Val Accuracy = 9.04%\n",
            "Epoch 137: Train Loss = 0.6455, Val Accuracy = 8.81%\n",
            "Epoch 138: Train Loss = 0.6457, Val Accuracy = 8.73%\n",
            "Epoch 139: Train Loss = 0.6462, Val Accuracy = 8.26%\n",
            "Epoch 140: Train Loss = 0.6483, Val Accuracy = 8.34%\n",
            "Epoch 141: Train Loss = 0.6520, Val Accuracy = 9.04%\n",
            "Epoch 142: Train Loss = 0.6489, Val Accuracy = 8.34%\n",
            "Epoch 143: Train Loss = 0.6612, Val Accuracy = 8.81%\n",
            "Epoch 144: Train Loss = 0.6871, Val Accuracy = 8.96%\n",
            "Epoch 145: Train Loss = 0.7909, Val Accuracy = 8.81%\n",
            "Epoch 146: Train Loss = 1.0993, Val Accuracy = 8.34%\n",
            "Epoch 147: Train Loss = 0.9276, Val Accuracy = 7.64%\n",
            "Epoch 148: Train Loss = 0.7879, Val Accuracy = 8.42%\n",
            "Epoch 149: Train Loss = 0.7249, Val Accuracy = 8.57%\n",
            "Epoch 150: Train Loss = 0.6857, Val Accuracy = 8.42%\n",
            "Epoch 151: Train Loss = 0.6702, Val Accuracy = 8.65%\n",
            "Epoch 152: Train Loss = 0.6578, Val Accuracy = 8.34%\n",
            "Epoch 153: Train Loss = 0.6525, Val Accuracy = 9.04%\n",
            "Epoch 154: Train Loss = 0.6502, Val Accuracy = 8.73%\n",
            "Epoch 155: Train Loss = 0.6447, Val Accuracy = 8.96%\n",
            "Epoch 156: Train Loss = 0.6435, Val Accuracy = 8.50%\n",
            "Epoch 157: Train Loss = 0.6422, Val Accuracy = 7.95%\n",
            "Epoch 158: Train Loss = 0.6392, Val Accuracy = 8.03%\n",
            "Epoch 159: Train Loss = 0.6414, Val Accuracy = 8.26%\n",
            "Epoch 160: Train Loss = 0.6380, Val Accuracy = 8.42%\n",
            "Epoch 161: Train Loss = 0.6386, Val Accuracy = 8.03%\n",
            "Epoch 162: Train Loss = 0.6367, Val Accuracy = 8.57%\n",
            "Epoch 163: Train Loss = 0.6388, Val Accuracy = 8.89%\n",
            "Epoch 164: Train Loss = 0.6451, Val Accuracy = 8.50%\n",
            "Epoch 165: Train Loss = 0.6578, Val Accuracy = 8.65%\n",
            "Epoch 166: Train Loss = 0.6779, Val Accuracy = 8.42%\n",
            "Epoch 167: Train Loss = 0.7010, Val Accuracy = 7.79%\n",
            "Epoch 168: Train Loss = 0.7908, Val Accuracy = 7.40%\n",
            "Epoch 169: Train Loss = 0.9114, Val Accuracy = 8.42%\n",
            "Epoch 170: Train Loss = 0.8809, Val Accuracy = 7.33%\n",
            "Epoch 171: Train Loss = 0.7622, Val Accuracy = 8.57%\n",
            "Epoch 172: Train Loss = 0.7066, Val Accuracy = 8.50%\n",
            "Epoch 173: Train Loss = 0.6711, Val Accuracy = 9.20%\n",
            "Epoch 174: Train Loss = 0.6532, Val Accuracy = 8.50%\n",
            "Epoch 175: Train Loss = 0.6459, Val Accuracy = 8.81%\n",
            "Epoch 176: Train Loss = 0.6397, Val Accuracy = 8.57%\n",
            "Epoch 177: Train Loss = 0.6383, Val Accuracy = 8.73%\n",
            "Epoch 178: Train Loss = 0.6378, Val Accuracy = 8.65%\n",
            "Epoch 179: Train Loss = 0.6328, Val Accuracy = 8.81%\n",
            "Epoch 180: Train Loss = 0.6312, Val Accuracy = 8.50%\n",
            "Epoch 181: Train Loss = 0.6307, Val Accuracy = 8.26%\n",
            "Epoch 182: Train Loss = 0.6301, Val Accuracy = 8.50%\n",
            "Epoch 183: Train Loss = 0.6291, Val Accuracy = 8.26%\n",
            "Epoch 184: Train Loss = 0.6296, Val Accuracy = 9.20%\n",
            "Epoch 185: Train Loss = 0.6309, Val Accuracy = 8.81%\n",
            "Epoch 186: Train Loss = 0.6320, Val Accuracy = 8.18%\n",
            "Epoch 187: Train Loss = 0.6326, Val Accuracy = 8.34%\n",
            "Epoch 188: Train Loss = 0.6369, Val Accuracy = 8.73%\n",
            "Epoch 189: Train Loss = 0.6555, Val Accuracy = 9.04%\n",
            "Epoch 190: Train Loss = 0.7738, Val Accuracy = 8.03%\n",
            "Epoch 191: Train Loss = 0.9978, Val Accuracy = 8.03%\n",
            "Epoch 192: Train Loss = 0.9166, Val Accuracy = 8.11%\n",
            "Epoch 193: Train Loss = 0.7709, Val Accuracy = 8.57%\n",
            "Epoch 194: Train Loss = 0.7023, Val Accuracy = 8.11%\n",
            "Epoch 195: Train Loss = 0.6700, Val Accuracy = 7.72%\n",
            "Epoch 196: Train Loss = 0.6506, Val Accuracy = 8.42%\n",
            "Epoch 197: Train Loss = 0.6404, Val Accuracy = 8.42%\n",
            "Epoch 198: Train Loss = 0.6371, Val Accuracy = 8.26%\n",
            "Epoch 199: Train Loss = 0.6338, Val Accuracy = 7.87%\n",
            "Epoch 200: Train Loss = 0.6326, Val Accuracy = 8.18%\n",
            "\n",
            "Test Accuracy: 7.88%\n"
          ]
        }
      ]
    },
    {
      "cell_type": "code",
      "source": [
        "def predict_next_word(model, input_sentence, word_to_idx, idx_to_word, sequence_length, device):\n",
        "    model.eval()\n",
        "    words = input_sentence.lower().split()\n",
        "    if len(words) < sequence_length:\n",
        "        words = [\"<PAD>\"] * (sequence_length - len(words)) + words\n",
        "    else:\n",
        "        words = words[-sequence_length:]\n",
        "\n",
        "    encoded = [word_to_idx.get(word, word_to_idx[\"<UNK>\"]) for word in words]\n",
        "    input_tensor = torch.tensor([encoded], dtype=torch.long).to(device)\n",
        "\n",
        "    with torch.no_grad():\n",
        "        logits = model(input_tensor)\n",
        "        pred_idx = torch.argmax(logits, dim=1).item()\n",
        "\n",
        "    return idx_to_word.get(pred_idx, \"<UNK>\")\n"
      ],
      "metadata": {
        "id": "0901u6tQwSiv"
      },
      "execution_count": 15,
      "outputs": []
    },
    {
      "cell_type": "code",
      "source": [
        "input_sentence = \"i love this\"\n",
        "next_word = predict_next_word(model, input_sentence, word_to_idx, idx_to_word, sequence_length, device)\n",
        "print(f\"Next word prediction: {next_word}\")"
      ],
      "metadata": {
        "colab": {
          "base_uri": "https://localhost:8080/"
        },
        "id": "N35EXcz4AwCv",
        "outputId": "4d7b38d9-d0f3-4341-eb55-8ec12641f92f"
      },
      "execution_count": 16,
      "outputs": [
        {
          "output_type": "stream",
          "name": "stdout",
          "text": [
            "Next word prediction: place\n"
          ]
        }
      ]
    },
    {
      "cell_type": "markdown",
      "source": [
        "Time Series Data"
      ],
      "metadata": {
        "id": "BvMq_Z7KDkQt"
      }
    },
    {
      "cell_type": "code",
      "source": [
        "import numpy as np\n",
        "import torch\n",
        "import torch.nn as nn\n",
        "from torch.utils.data import TensorDataset, DataLoader\n",
        "import matplotlib.pyplot as plt\n",
        "\n",
        "# Create sine wave data\n",
        "x = np.linspace(0, 100, 1000)\n",
        "y = np.sin(x)\n",
        "\n",
        "plt.plot(x, y)\n",
        "plt.title(\"Sine Wave\")\n",
        "plt.show()"
      ],
      "metadata": {
        "colab": {
          "base_uri": "https://localhost:8080/",
          "height": 452
        },
        "id": "DHJFxytIDcOR",
        "outputId": "71b5863f-ba7c-49dd-ccae-2b5642dc9860"
      },
      "execution_count": 38,
      "outputs": [
        {
          "output_type": "display_data",
          "data": {
            "text/plain": [
              "<Figure size 640x480 with 1 Axes>"
            ],
            "image/png": "[encoded data removed]"
          },
          "metadata": {}
        }
      ]
    },
    {
      "cell_type": "code",
      "source": [
        "sequence_length = 2\n",
        "\n",
        "def create_sequences(data, seq_len):\n",
        "    X, y = [], []\n",
        "    for i in range(len(data) - seq_len):\n",
        "        X.append(data[i:i+seq_len])\n",
        "        y.append(data[i+seq_len])\n",
        "    return np.array(X), np.array(y)\n"
      ],
      "metadata": {
        "id": "eO2rNhxbEIPg"
      },
      "execution_count": 39,
      "outputs": []
    },
    {
      "cell_type": "code",
      "source": [
        "X, y = create_sequences(y, sequence_length)\n",
        "print(X[0:5],y[0:5])\n",
        "train_size = int(0.7 * len(X))\n",
        "val_size = int(0.15 * len(X))\n",
        "test_size = len(X) - train_size - val_size\n",
        "\n",
        "X_train, X_val, X_test = X[:train_size], X[train_size:train_size+val_size], X[train_size+val_size:]\n",
        "y_train, y_val, y_test = y[:train_size], y[train_size:train_size+val_size], y[train_size+val_size:]\n",
        "print(X_train.shape)\n",
        "X_train = torch.tensor(X_train, dtype=torch.float32).unsqueeze(-1)\n",
        "y_train = torch.tensor(y_train, dtype=torch.float32).unsqueeze(-1)\n",
        "X_val = torch.tensor(X_val, dtype=torch.float32).unsqueeze(-1)\n",
        "y_val = torch.tensor(y_val, dtype=torch.float32).unsqueeze(-1)\n",
        "X_test = torch.tensor(X_test, dtype=torch.float32).unsqueeze(-1)\n",
        "y_test = torch.tensor(y_test, dtype=torch.float32).unsqueeze(-1)\n",
        "print(X_train.shape)\n",
        "train_loader = DataLoader(TensorDataset(X_train, y_train), batch_size=32)\n",
        "val_loader = DataLoader(TensorDataset(X_val, y_val), batch_size=32)\n",
        "test_loader = DataLoader(TensorDataset(X_test, y_test), batch_size=32)\n"
      ],
      "metadata": {
        "colab": {
          "base_uri": "https://localhost:8080/"
        },
        "id": "ifY5ELtPFG8G",
        "outputId": "50c4dc20-c785-45fd-f458-f51c80c7b78d"
      },
      "execution_count": 40,
      "outputs": [
        {
          "output_type": "stream",
          "name": "stdout",
          "text": [
            "[[0.         0.09993302]\n",
            " [0.09993302 0.19886554]\n",
            " [0.19886554 0.29580708]\n",
            " [0.29580708 0.3897871 ]\n",
            " [0.3897871  0.47986471]] [0.19886554 0.29580708 0.3897871  0.47986471 0.56513807]\n",
            "(698, 2)\n",
            "torch.Size([698, 2, 1])\n"
          ]
        }
      ]
    },
    {
      "cell_type": "code",
      "source": [
        "class RNNTimeSeries(nn.Module):\n",
        "    def __init__(self, input_dim=1, hidden_dim=64, num_layers=2):\n",
        "        super(RNNTimeSeries, self).__init__()\n",
        "        #self.rnn = nn.RNN(input_dim, hidden_dim, num_layers=num_layers, batch_first=True)\n",
        "        self.lstm = nn.LSTM(input_dim, hidden_dim, num_layers=num_layers, batch_first=True)\n",
        "        self.fc = nn.Linear(hidden_dim, 1)\n",
        "\n",
        "    def forward(self, x):\n",
        "        out, _ = self.lstm(x)\n",
        "        return self.fc(out[:, -1, :])  # only final time step output"
      ],
      "metadata": {
        "id": "u9PN2EjoFRIw"
      },
      "execution_count": 44,
      "outputs": []
    },
    {
      "cell_type": "code",
      "source": [
        "device = torch.device(\"cuda\" if torch.cuda.is_available() else \"cpu\")\n",
        "model = RNNTimeSeries().to(device)\n",
        "\n",
        "criterion = nn.MSELoss()\n",
        "optimizer = torch.optim.Adam(model.parameters(), lr=0.01)"
      ],
      "metadata": {
        "id": "dkQY4COjGw-X"
      },
      "execution_count": 45,
      "outputs": []
    },
    {
      "cell_type": "code",
      "source": [
        "def train(model, loader):\n",
        "    model.train()\n",
        "    total_loss = 0\n",
        "    for X_batch, y_batch in loader:\n",
        "        X_batch, y_batch = X_batch.to(device), y_batch.to(device)\n",
        "        optimizer.zero_grad()\n",
        "        output = model(X_batch)\n",
        "        loss = criterion(output, y_batch)\n",
        "        loss.backward()\n",
        "        optimizer.step()\n",
        "        total_loss += loss.item()\n",
        "    return total_loss / len(loader)"
      ],
      "metadata": {
        "id": "IsYz5VRyG4lA"
      },
      "execution_count": 46,
      "outputs": []
    },
    {
      "cell_type": "code",
      "source": [
        "def evaluate(model, loader):\n",
        "    model.eval()\n",
        "    total_loss = 0\n",
        "    with torch.no_grad():\n",
        "        for X_batch, y_batch in loader:\n",
        "            X_batch, y_batch = X_batch.to(device), y_batch.to(device)\n",
        "            output = model(X_batch)\n",
        "            loss = criterion(output, y_batch)\n",
        "            total_loss += loss.item()\n",
        "    return total_loss / len(loader)"
      ],
      "metadata": {
        "id": "5SK3b3W9G9Dy"
      },
      "execution_count": 47,
      "outputs": []
    },
    {
      "cell_type": "code",
      "source": [
        "for epoch in range(50):\n",
        "    train_loss = train(model, train_loader)\n",
        "    val_loss = evaluate(model, val_loader)\n",
        "    print(f\"Epoch {epoch+1}: Train Loss = {train_loss:.4f}, Val Loss = {val_loss:.4f}\")"
      ],
      "metadata": {
        "colab": {
          "base_uri": "https://localhost:8080/"
        },
        "id": "fH4sxNkIHGU4",
        "outputId": "a07aae54-120a-47aa-f1fd-3535cc196d9a"
      },
      "execution_count": 48,
      "outputs": [
        {
          "output_type": "stream",
          "name": "stdout",
          "text": [
            "Epoch 1: Train Loss = 0.2125, Val Loss = 0.0482\n",
            "Epoch 2: Train Loss = 0.0266, Val Loss = 0.0182\n",
            "Epoch 3: Train Loss = 0.0165, Val Loss = 0.0150\n",
            "Epoch 4: Train Loss = 0.0149, Val Loss = 0.0141\n",
            "Epoch 5: Train Loss = 0.0142, Val Loss = 0.0129\n",
            "Epoch 6: Train Loss = 0.0131, Val Loss = 0.0116\n",
            "Epoch 7: Train Loss = 0.0117, Val Loss = 0.0099\n",
            "Epoch 8: Train Loss = 0.0097, Val Loss = 0.0075\n",
            "Epoch 9: Train Loss = 0.0067, Val Loss = 0.0038\n",
            "Epoch 10: Train Loss = 0.0086, Val Loss = 0.0065\n",
            "Epoch 11: Train Loss = 0.0029, Val Loss = 0.0012\n",
            "Epoch 12: Train Loss = 0.0068, Val Loss = 0.0053\n",
            "Epoch 13: Train Loss = 0.0033, Val Loss = 0.0014\n",
            "Epoch 14: Train Loss = 0.0017, Val Loss = 0.0004\n",
            "Epoch 15: Train Loss = 0.0004, Val Loss = 0.0002\n",
            "Epoch 16: Train Loss = 0.0008, Val Loss = 0.0004\n",
            "Epoch 17: Train Loss = 0.0006, Val Loss = 0.0001\n",
            "Epoch 18: Train Loss = 0.0036, Val Loss = 0.0023\n",
            "Epoch 19: Train Loss = 0.0009, Val Loss = 0.0005\n",
            "Epoch 20: Train Loss = 0.0004, Val Loss = 0.0002\n",
            "Epoch 21: Train Loss = 0.0002, Val Loss = 0.0000\n",
            "Epoch 22: Train Loss = 0.0002, Val Loss = 0.0000\n",
            "Epoch 23: Train Loss = 0.0004, Val Loss = 0.0001\n",
            "Epoch 24: Train Loss = 0.0001, Val Loss = 0.0001\n",
            "Epoch 25: Train Loss = 0.0005, Val Loss = 0.0011\n",
            "Epoch 26: Train Loss = 0.0055, Val Loss = 0.0028\n",
            "Epoch 27: Train Loss = 0.0011, Val Loss = 0.0001\n",
            "Epoch 28: Train Loss = 0.0002, Val Loss = 0.0002\n",
            "Epoch 29: Train Loss = 0.0002, Val Loss = 0.0001\n",
            "Epoch 30: Train Loss = 0.0001, Val Loss = 0.0000\n",
            "Epoch 31: Train Loss = 0.0001, Val Loss = 0.0000\n",
            "Epoch 32: Train Loss = 0.0001, Val Loss = 0.0000\n",
            "Epoch 33: Train Loss = 0.0002, Val Loss = 0.0001\n",
            "Epoch 34: Train Loss = 0.0003, Val Loss = 0.0002\n",
            "Epoch 35: Train Loss = 0.0016, Val Loss = 0.0003\n",
            "Epoch 36: Train Loss = 0.0031, Val Loss = 0.0017\n",
            "Epoch 37: Train Loss = 0.0020, Val Loss = 0.0008\n",
            "Epoch 38: Train Loss = 0.0006, Val Loss = 0.0001\n",
            "Epoch 39: Train Loss = 0.0002, Val Loss = 0.0001\n",
            "Epoch 40: Train Loss = 0.0000, Val Loss = 0.0000\n",
            "Epoch 41: Train Loss = 0.0000, Val Loss = 0.0000\n",
            "Epoch 42: Train Loss = 0.0001, Val Loss = 0.0000\n",
            "Epoch 43: Train Loss = 0.0001, Val Loss = 0.0000\n",
            "Epoch 44: Train Loss = 0.0002, Val Loss = 0.0000\n",
            "Epoch 45: Train Loss = 0.0001, Val Loss = 0.0000\n",
            "Epoch 46: Train Loss = 0.0001, Val Loss = 0.0001\n",
            "Epoch 47: Train Loss = 0.0020, Val Loss = 0.0005\n",
            "Epoch 48: Train Loss = 0.0030, Val Loss = 0.0015\n",
            "Epoch 49: Train Loss = 0.0005, Val Loss = 0.0002\n",
            "Epoch 50: Train Loss = 0.0005, Val Loss = 0.0002\n"
          ]
        }
      ]
    },
    {
      "cell_type": "code",
      "source": [
        "model.eval()\n",
        "with torch.no_grad():\n",
        "    y_pred = model(X_test.to(device)).cpu().numpy()\n",
        "    y_true = y_test.numpy()\n",
        "\n",
        "plt.plot(y_true, label='Actual')\n",
        "plt.plot(y_pred, label='Predicted')\n",
        "plt.legend()\n",
        "plt.title(\"Sine Wave Prediction\")\n",
        "plt.show()"
      ],
      "metadata": {
        "colab": {
          "base_uri": "https://localhost:8080/",
          "height": 452
        },
        "id": "sXO3yoXHHMN9",
        "outputId": "e48a0c01-0bf0-4b4e-9542-b7546b94710b"
      },
      "execution_count": 49,
      "outputs": [
        {
          "output_type": "display_data",
          "data": {
            "text/plain": [
              "<Figure size 640x480 with 1 Axes>"
            ],
            "image/png": "[encoded data removed]"
          },
          "metadata": {}
        }
      ]
    },
    {
      "cell_type": "code",
      "source": [],
      "metadata": {
        "id": "Z8vRdSDzHXbq"
      },
      "execution_count": null,
      "outputs": []
    }
  ]
}